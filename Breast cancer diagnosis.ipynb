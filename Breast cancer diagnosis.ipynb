{
  "nbformat": 4,
  "nbformat_minor": 0,
  "metadata": {
    "colab": {
      "provenance": [],
      "authorship_tag": "ABX9TyMiXKW+D4tRaBOuDoQtjB4d",
      "include_colab_link": true
    },
    "kernelspec": {
      "name": "python3",
      "display_name": "Python 3"
    },
    "language_info": {
      "name": "python"
    }
  },
  "cells": [
    {
      "cell_type": "markdown",
      "metadata": {
        "id": "view-in-github",
        "colab_type": "text"
      },
      "source": [
        "<a href=\"https://colab.research.google.com/github/parisazeynaly/Breast-cancer-diagnosis/blob/main/Breast%20cancer%20diagnosis.ipynb\" target=\"_parent\"><img src=\"https://colab.research.google.com/assets/colab-badge.svg\" alt=\"Open In Colab\"/></a>"
      ]
    },
    {
      "cell_type": "code",
      "execution_count": 1,
      "metadata": {
        "id": "cMmnxCwOZGLg"
      },
      "outputs": [],
      "source": [
        "from sklearn.datasets import load_breast_cancer\n",
        "\n",
        "from sklearn.neighbors import KNeighborsClassifier\n",
        "import matplotlib.pyplot as plt"
      ]
    },
    {
      "cell_type": "code",
      "source": [
        "# Load the dataset\n",
        "bc = load_breast_cancer()\n",
        "df = pd.DataFrame(data=bc.data, columns=bc.feature_names)\n",
        "df['target'] = bc.target\n",
        "df['target_name'] = df['target'].map({0: 'malignant', 1: 'benign'})"
      ],
      "metadata": {
        "colab": {
          "base_uri": "https://localhost:8080/",
          "height": 211
        },
        "id": "mCgAvhKTfoSN",
        "outputId": "2cd641a0-deab-4321-d9d7-e7acbb90f43e"
      },
      "execution_count": 3,
      "outputs": [
        {
          "output_type": "error",
          "ename": "NameError",
          "evalue": "name 'pd' is not defined",
          "traceback": [
            "\u001b[0;31m---------------------------------------------------------------------------\u001b[0m",
            "\u001b[0;31mNameError\u001b[0m                                 Traceback (most recent call last)",
            "\u001b[0;32m/tmp/ipython-input-670380783.py\u001b[0m in \u001b[0;36m<cell line: 0>\u001b[0;34m()\u001b[0m\n\u001b[1;32m      1\u001b[0m \u001b[0;31m# Load the dataset\u001b[0m\u001b[0;34m\u001b[0m\u001b[0;34m\u001b[0m\u001b[0m\n\u001b[1;32m      2\u001b[0m \u001b[0mbc\u001b[0m \u001b[0;34m=\u001b[0m \u001b[0mload_breast_cancer\u001b[0m\u001b[0;34m(\u001b[0m\u001b[0;34m)\u001b[0m\u001b[0;34m\u001b[0m\u001b[0;34m\u001b[0m\u001b[0m\n\u001b[0;32m----> 3\u001b[0;31m \u001b[0mdf\u001b[0m \u001b[0;34m=\u001b[0m \u001b[0mpd\u001b[0m\u001b[0;34m.\u001b[0m\u001b[0mDataFrame\u001b[0m\u001b[0;34m(\u001b[0m\u001b[0mdata\u001b[0m\u001b[0;34m=\u001b[0m\u001b[0mbc\u001b[0m\u001b[0;34m.\u001b[0m\u001b[0mdata\u001b[0m\u001b[0;34m,\u001b[0m \u001b[0mcolumns\u001b[0m\u001b[0;34m=\u001b[0m\u001b[0mbc\u001b[0m\u001b[0;34m.\u001b[0m\u001b[0mfeature_names\u001b[0m\u001b[0;34m)\u001b[0m\u001b[0;34m\u001b[0m\u001b[0;34m\u001b[0m\u001b[0m\n\u001b[0m\u001b[1;32m      4\u001b[0m \u001b[0mdf\u001b[0m\u001b[0;34m[\u001b[0m\u001b[0;34m'target'\u001b[0m\u001b[0;34m]\u001b[0m \u001b[0;34m=\u001b[0m \u001b[0mbc\u001b[0m\u001b[0;34m.\u001b[0m\u001b[0mtarget\u001b[0m\u001b[0;34m\u001b[0m\u001b[0;34m\u001b[0m\u001b[0m\n\u001b[1;32m      5\u001b[0m \u001b[0mdf\u001b[0m\u001b[0;34m[\u001b[0m\u001b[0;34m'target_name'\u001b[0m\u001b[0;34m]\u001b[0m \u001b[0;34m=\u001b[0m \u001b[0mdf\u001b[0m\u001b[0;34m[\u001b[0m\u001b[0;34m'target'\u001b[0m\u001b[0;34m]\u001b[0m\u001b[0;34m.\u001b[0m\u001b[0mmap\u001b[0m\u001b[0;34m(\u001b[0m\u001b[0;34m{\u001b[0m\u001b[0;36m0\u001b[0m\u001b[0;34m:\u001b[0m \u001b[0;34m'malignant'\u001b[0m\u001b[0;34m,\u001b[0m \u001b[0;36m1\u001b[0m\u001b[0;34m:\u001b[0m \u001b[0;34m'benign'\u001b[0m\u001b[0;34m}\u001b[0m\u001b[0;34m)\u001b[0m\u001b[0;34m\u001b[0m\u001b[0;34m\u001b[0m\u001b[0m\n",
            "\u001b[0;31mNameError\u001b[0m: name 'pd' is not defined"
          ]
        }
      ]
    },
    {
      "cell_type": "code",
      "source": [
        "print(bc.DESCR)\n"
      ],
      "metadata": {
        "id": "KWnKQwiUh94_"
      },
      "execution_count": null,
      "outputs": []
    },
    {
      "cell_type": "markdown",
      "source": [
        "Dataset Info"
      ],
      "metadata": {
        "id": "jbtf1rlW7KYm"
      }
    },
    {
      "cell_type": "code",
      "source": [
        "bc.target[450]"
      ],
      "metadata": {
        "id": "FpxPUiRr7qOz"
      },
      "execution_count": null,
      "outputs": []
    },
    {
      "cell_type": "code",
      "source": [
        "bc.target.shape"
      ],
      "metadata": {
        "id": "l-ZsSmL78K8W"
      },
      "execution_count": null,
      "outputs": []
    },
    {
      "cell_type": "code",
      "source": [
        "bc.data[0]"
      ],
      "metadata": {
        "id": "oWaDq6ig8zMy"
      },
      "execution_count": null,
      "outputs": []
    },
    {
      "cell_type": "code",
      "source": [
        "bc.data.shape"
      ],
      "metadata": {
        "id": "8SviMVjY9fg3"
      },
      "execution_count": null,
      "outputs": []
    },
    {
      "cell_type": "markdown",
      "source": [
        "**Preprocessing**"
      ],
      "metadata": {
        "id": "le-r2RES920m"
      }
    },
    {
      "cell_type": "code",
      "source": [
        "from sklearn.model_selection import train_test_split\n",
        "X_train, X_test, y_train, y_test = train_test_split(bc.data, bc.target,test_size= 0.2, random_state=0)"
      ],
      "metadata": {
        "id": "NUOVijMX916-"
      },
      "execution_count": null,
      "outputs": []
    },
    {
      "cell_type": "code",
      "source": [
        "print(f\"feature=> train:{X_train.shape} - test:{X_test.shape}\")\n",
        "print(f\"target=> train:{y_train.shape} - test:{y_test.shape}\")"
      ],
      "metadata": {
        "id": "GwMyMKaQEc7v"
      },
      "execution_count": null,
      "outputs": []
    },
    {
      "cell_type": "code",
      "source": [
        "X_train[0]"
      ],
      "metadata": {
        "id": "IqWC9KjiKolJ"
      },
      "execution_count": null,
      "outputs": []
    },
    {
      "cell_type": "code",
      "source": [
        "from sklearn.preprocessing import MinMaxScaler\n",
        "scaler= MinMaxScaler(feature_range=(0,1))\n",
        "X_train=scaler.fit_transform(X_train)\n",
        "X_test=scaler.transform(X_test)"
      ],
      "metadata": {
        "id": "htICDTjJFIMA"
      },
      "execution_count": null,
      "outputs": []
    },
    {
      "cell_type": "code",
      "source": [
        "X_train[0]"
      ],
      "metadata": {
        "id": "lPWAGsMdK4Ra"
      },
      "execution_count": null,
      "outputs": []
    },
    {
      "cell_type": "markdown",
      "source": [
        "Classification"
      ],
      "metadata": {
        "id": "0fpHVbMMLlFi"
      }
    },
    {
      "cell_type": "code",
      "source": [
        "from re import A\n",
        "from sklearn.metrics import accuracy_score , precision_score, recall_score, f1_score\n",
        "def calculate_metrics(y_test,y_train,y_pred_train, y_pred_test):\n",
        "    acc_train=accuracy_score(y_true=y_train, y_pred=y_pred_train)\n",
        "    acc_test=accuracy_score(y_true=y_test, y_pred=y_pred_test)\n",
        "\n",
        "    p=precision_score(y_true=y_test, y_pred=y_pred_test)\n",
        "    r=recall_score(y_true=y_test, y_pred=y_pred_test)\n",
        "    print(f'acc_train:{acc_train} - acc_test:{acc_test}')\n",
        "    print(f'precision:{p} - recall:{r}')\n",
        "\n",
        "\n"
      ],
      "metadata": {
        "id": "K6nVFyhScB0R"
      },
      "execution_count": null,
      "outputs": []
    },
    {
      "cell_type": "code",
      "source": [
        "from sklearn.naive_bayes import GaussianNB\n",
        "Gnb=GaussianNB()\n",
        "Gnb.fit(X_train,y_train)\n"
      ],
      "metadata": {
        "id": "CnR3lI_-Ljx9"
      },
      "execution_count": null,
      "outputs": []
    },
    {
      "cell_type": "code",
      "source": [
        "y_pred_train = Gnb.predict(X_train)\n",
        "y_pred_test =Gnb.predict(X_test)\n",
        "\n",
        "acc_train=accuracy_score(y_true=y_train, y_pred=y_pred_train)\n",
        "acc_test=accuracy_score(y_true=y_test, y_pred=y_pred_test)\n",
        "# acc_train, acc_test, p, r =calculate_metrics(y_train,y_test,y_pred_train, y_pred_test)"
      ],
      "metadata": {
        "id": "z0UgsBsgk3Dg"
      },
      "execution_count": null,
      "outputs": []
    },
    {
      "cell_type": "markdown",
      "source": [
        "KNN"
      ],
      "metadata": {
        "id": "i7G9H2QVnh1o"
      }
    },
    {
      "cell_type": "code",
      "source": [
        "from sklearn.neighbors import KNeighborsClassifier\n",
        "knn=KNeighborsClassifier(n_neighbors=5)\n",
        "knn.fit(X_train,y_train)\n"
      ],
      "metadata": {
        "id": "bc0b1gKPnj4D"
      },
      "execution_count": null,
      "outputs": []
    },
    {
      "cell_type": "code",
      "source": [
        "y_pred_train = knn.predict(X_train)\n",
        "y_pred_test =knn.predict(X_test)\n",
        "\n",
        "acc_train=accuracy_score(y_true=y_train, y_pred=y_pred_train)\n",
        "acc_test=accuracy_score(y_true=y_test, y_pred=y_pred_test)"
      ],
      "metadata": {
        "id": "Iu3ToHwjs8fg"
      },
      "execution_count": null,
      "outputs": []
    },
    {
      "cell_type": "markdown",
      "source": [
        "Desion tree"
      ],
      "metadata": {
        "id": "gkF2AIfstP3H"
      }
    },
    {
      "cell_type": "code",
      "source": [
        "from sklearn.tree import DecisionTreeClassifier\n",
        "dtc=DecisionTreeClassifier(max_depth=100,min_samples_split=5,criterion='entropy')\n",
        "dtc.fit(X_train,y_train)"
      ],
      "metadata": {
        "id": "px0WQdeZtcrb"
      },
      "execution_count": null,
      "outputs": []
    },
    {
      "cell_type": "code",
      "source": [
        "y_pred_train = dtc.predict(X_train)\n",
        "y_pred_test =dtc.predict(X_test)\n",
        "\n",
        "acc_train=accuracy_score(y_true=y_train, y_pred=y_pred_train)\n",
        "acc_test=accuracy_score(y_true=y_test, y_pred=y_pred_test)"
      ],
      "metadata": {
        "id": "0_JhHlLfvrs6"
      },
      "execution_count": null,
      "outputs": []
    },
    {
      "cell_type": "markdown",
      "source": [],
      "metadata": {
        "id": "DgtDoO3ysJUE"
      }
    }
  ]
}